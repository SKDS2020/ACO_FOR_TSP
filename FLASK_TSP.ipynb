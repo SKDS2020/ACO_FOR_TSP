{
 "cells": [
  {
   "cell_type": "markdown",
   "metadata": {},
   "source": [
    "https://www.theprojectspot.com/tutorial-post/ant-colony-optimization-for-hackers/10"
   ]
  },
  {
   "cell_type": "code",
   "execution_count": 1,
   "metadata": {},
   "outputs": [],
   "source": [
    "import flask\n",
    "import flask_wtf\n",
    "import wtforms\n",
    "from flask import redirect, url_for, render_template, request\n",
    "\n",
    "import base64\n",
    "from io import BytesIO\n",
    "import io\n",
    "import matplotlib.pyplot as plt\n",
    "from io import BytesIO\n",
    "\n",
    "import pandas as pd"
   ]
  },
  {
   "cell_type": "code",
   "execution_count": 2,
   "metadata": {},
   "outputs": [
    {
     "name": "stdout",
     "output_type": "stream",
     "text": [
      "importing Jupyter notebook from TSP_ACO.ipynb\n",
      "importing Jupyter notebook from Edg_Object.ipynb\n",
      "importing Jupyter notebook from Ant_Object.ipynb\n"
     ]
    }
   ],
   "source": [
    "import import_ipynb\n",
    "import random\n",
    "import TSP_ACO\n",
    "import csv\n",
    "import os\n",
    "\n",
    "_colony_size = 5\n",
    "_steps = 15\n",
    "# _nodes = [(random.uniform(-400, 400), random.uniform(-400, 400)) for _ in range(0, 20)]\n",
    "# print(_nodes)\n",
    "# acs = TSP_ACO.SolveTSPUsingACO(mode='ACS', colony_size=_colony_size, steps=_steps, nodes=_nodes)\n",
    "# sequence=acs.run()\n",
    "# acs.plot()\n",
    "# print (sequence)\n"
   ]
  },
  {
   "cell_type": "code",
   "execution_count": 3,
   "metadata": {},
   "outputs": [],
   "source": [
    "app= flask.Flask(\"my_app\")\n",
    "app.config['FILE_UPLOADS'] = \"C:\\\\Users\\\\97254\\\\PycharmProjects\\\\final_prj\\\\tsp_project\\\\static\"\n",
    "@app.route('/')\n",
    "def home():\n",
    "    return render_template(\"index.html\", content='blaa')\n",
    "\n",
    "@app.route('/test')\n",
    "def test():\n",
    "    return render_template(\"new_index.html\", content='blaa')\n",
    "\n",
    "@app.route('/login', methods=[\"POST\", \"GET\"])\n",
    "def login():\n",
    "    data = []\n",
    "    if request.method == \"POST\":\n",
    "\n",
    "        if request.files:\n",
    "            uploaded_file = request.files['file'] # This line uses the same variable and worked fine\n",
    "            filepath = os.path.join(app.config['FILE_UPLOADS'], uploaded_file.filename)\n",
    "            uploaded_file.save(filepath)\n",
    "            with open(filepath) as file:\n",
    "                csv_file = csv.reader(file)\n",
    "                for row in csv_file:\n",
    "                    data.append(tuple(list(map(float, row))))\n",
    "        else:\n",
    "            data = [(random.uniform(-400, 400), random.uniform(-400, 400)) for _ in range(0, 20)]   \n",
    "        print (data)\n",
    "        ants_num=int(request.form[\"ants_num\"])\n",
    "        iterations=int(request.form[\"iterations\"])\n",
    "        acs = TSP_ACO.SolveTSPUsingACO(mode='ACS', colony_size=ants_num, steps=iterations, nodes=data)\n",
    "        sequence=acs.run()\n",
    "        acs.plot()\n",
    "\n",
    "     \n",
    "        return redirect(url_for('user', ants_num=ants_num, iterations=iterations, name=sequence))\n",
    "    else:\n",
    "        return render_template(\"new_index.html\")\n",
    "\n",
    "\n",
    "@app.route('/<ants_num>?/<iterations>?/<name>?')\n",
    "def user( ants_num=None, iterations=None, name=None):\n",
    "    \n",
    "    return render_template(\"bea.html\", user_image= \"foo.png\", url='/static/images/plot.png', ants=ants_num, iterations=iterations, name=name)\n",
    "\n",
    "\n"
   ]
  },
  {
   "cell_type": "code",
   "execution_count": 4,
   "metadata": {},
   "outputs": [
    {
     "name": "stdout",
     "output_type": "stream",
     "text": [
      " * Serving Flask app 'my_app' (lazy loading)\n",
      " * Environment: production\n",
      "\u001b[31m   WARNING: This is a development server. Do not use it in a production deployment.\u001b[0m\n",
      "\u001b[2m   Use a production WSGI server instead.\u001b[0m\n",
      " * Debug mode: off\n"
     ]
    },
    {
     "name": "stderr",
     "output_type": "stream",
     "text": [
      " * Running on http://127.0.0.1:5000/ (Press CTRL+C to quit)\n",
      "127.0.0.1 - - [13/Jun/2022 11:24:09] \"GET /login HTTP/1.1\" 200 -\n",
      "127.0.0.1 - - [13/Jun/2022 11:24:10] \"GET /static/images/antsb.jpg HTTP/1.1\" 304 -\n"
     ]
    },
    {
     "name": "stdout",
     "output_type": "stream",
     "text": [
      "[(-382.9871349, 287.4246336), (11.0755493, 360.7974171), (-267.0694114, 147.9245197), (-314.4533092, 340.703054), (7.032341318, -289.8877545), (296.9545287, 169.7124864), (98.05953321, 226.8754174), (-353.5097386, -202.9131593), (377.4120654, -271.2156223), (217.8461063, 205.2723408)]\n"
     ]
    },
    {
     "data": {
      "image/png": "[encoded data removed]",
      "text/plain": [
       "<Figure size 432x288 with 1 Axes>"
      ]
     },
     "metadata": {
      "needs_background": "light"
     },
     "output_type": "display_data"
    },
    {
     "name": "stderr",
     "output_type": "stream",
     "text": [
      "127.0.0.1 - - [13/Jun/2022 11:24:25] \"POST /login HTTP/1.1\" 302 -\n",
      "127.0.0.1 - - [13/Jun/2022 11:24:25] \"GET /6%3F/4%3F/Sequence%20:%20%3C-%201%20-%207%20-%202%20-%2010%20-%206%20-%209%20-%205%20-%208%20-%204%20-%203%20-%3E%3F HTTP/1.1\" 200 -\n",
      "127.0.0.1 - - [13/Jun/2022 11:24:25] \"GET /static/images/sectors.jpg HTTP/1.1\" 304 -\n",
      "127.0.0.1 - - [13/Jun/2022 11:24:25] \"GET /static/images/foo.png HTTP/1.1\" 304 -\n",
      "127.0.0.1 - - [13/Jun/2022 11:24:25] \"GET /static/images/plot.png HTTP/1.1\" 200 -\n"
     ]
    },
    {
     "data": {
      "text/plain": [
       "<Figure size 432x288 with 0 Axes>"
      ]
     },
     "metadata": {},
     "output_type": "display_data"
    }
   ],
   "source": [
    "app.run()\n",
    "#app.config['SECRET_KEY'] = 'ecf6e975838a2f7bf3c5dbe7d55ebe5b'  ###"
   ]
  }
 ],
 "metadata": {
  "interpreter": {
   "hash": "821203d0b7be942b18cbbd219e05ff4af57f12afa49d20e52708bbb6ea37606d"
  },
  "kernelspec": {
   "display_name": "Python 3.7.11 ('final_prj')",
   "language": "python",
   "name": "python3"
  },
  "language_info": {
   "codemirror_mode": {
    "name": "ipython",
    "version": 3
   },
   "file_extension": ".py",
   "mimetype": "text/x-python",
   "name": "python",
   "nbconvert_exporter": "python",
   "pygments_lexer": "ipython3",
   "version": "3.7.11"
  },
  "orig_nbformat": 4
 },
 "nbformat": 4,
 "nbformat_minor": 2
}
