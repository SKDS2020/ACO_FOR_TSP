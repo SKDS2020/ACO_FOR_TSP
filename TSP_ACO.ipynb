{
 "cells": [
  {
   "cell_type": "markdown",
   "metadata": {},
   "source": [
    "https://www.theprojectspot.com/tutorial-post/ant-colony-optimization-for-hackers/10"
   ]
  },
  {
   "cell_type": "code",
   "execution_count": 1,
   "metadata": {},
   "outputs": [
    {
     "name": "stdout",
     "output_type": "stream",
     "text": [
      "importing Jupyter notebook from Edg_Object.ipynb\n",
      "importing Jupyter notebook from Ant_Object.ipynb\n"
     ]
    }
   ],
   "source": [
    "import math\n",
    "import random\n",
    "from matplotlib import pyplot as plt\n",
    "import import_ipynb\n",
    "import Edg_Object\n",
    "import Ant_Object\n",
    "import time \n",
    "import threading \n",
    "from io import BytesIO\n",
    "\n"
   ]
  },
  {
   "cell_type": "code",
   "execution_count": 2,
   "metadata": {},
   "outputs": [],
   "source": [
    "\n",
    "class SolveTSPUsingACO:\n",
    "\n",
    "    def __init__(self, mode='ACS', colony_size=10, min_scaling_factor=0.001, alpha=1.0, beta=3.0,\n",
    "                 rho=0.1, pheromone_deposit_weight=1.0, initial_pheromone=1.0, steps=100, nodes=None, labels=None):\n",
    "        self.mode = mode\n",
    "        self.colony_size = colony_size\n",
    "        self.min_scaling_factor = min_scaling_factor\n",
    "        self.rho = rho\n",
    "        self.pheromone_deposit_weight = pheromone_deposit_weight\n",
    "        self.steps = steps\n",
    "        self.num_nodes = len(nodes)\n",
    "        self.nodes = nodes\n",
    "        if labels is not None:\n",
    "            self.labels = labels\n",
    "        else:\n",
    "            self.labels = range(1, self.num_nodes + 1)\n",
    "        self.edges = [[None] * self.num_nodes for _ in range(self.num_nodes)]  \n",
    "\n",
    "        for i in range(self.num_nodes):\n",
    "            for j in range(i + 1, self.num_nodes):\n",
    "                self.edges[i][j] = self.edges[j][i] = Edg_Object.Edge(i, j, math.sqrt(\n",
    "                    pow(self.nodes[i][0] - self.nodes[j][0], 2.0) + pow(self.nodes[i][1] - self.nodes[j][1], 2.0)),\n",
    "                                                                initial_pheromone)\n",
    "\n",
    "        \n",
    "        self.ants = [Ant_Object.Ant(alpha, beta, self.num_nodes, self.edges, all_nodes=self.nodes) for _ in range(self.colony_size)]\n",
    "        self.global_best_tour = None\n",
    "        self.global_best_distance = float(\"inf\")\n",
    "\n",
    "            \n",
    "\n",
    "\n",
    "    \n",
    "    def _add_pheromone(self, tour, distance, weight=1.0):\n",
    "        pheromone_to_add = self.pheromone_deposit_weight / distance\n",
    "        for i in range(self.num_nodes):\n",
    "            self.edges[tour[i]][tour[(i + 1) % self.num_nodes]].pheromone += weight * pheromone_to_add\n",
    "\n",
    "    def _acs(self):\n",
    "        for step in range(self.steps):\n",
    "            for ant in self.ants: \n",
    "                self._add_pheromone(ant.find_tour(), ant.get_distance())\n",
    "                if ant.distance < self.global_best_distance:\n",
    "                    self.global_best_tour = ant.tour\n",
    "                    self.global_best_distance = ant.distance\n",
    "            for i in range(self.num_nodes): \n",
    "                for j in range(i + 1, self.num_nodes):\n",
    "                    self.edges[i][j].pheromone *= (1.0 - self.rho)\n",
    "\n",
    "    def _acs_lebdika(self):\n",
    "        ant= self.ants[0]\n",
    "        self._add_pheromone(ant.find_tour(), ant.get_distance())\n",
    "                \n",
    "    \n",
    "    \n",
    "    def run(self):\n",
    "        \n",
    "        if self.mode == 'ACS':\n",
    "            self._acs()\n",
    "        return ('Sequence : <- {0} ->'.format(' - '.join(str(self.labels[i]) for i in self.global_best_tour)))\n",
    "        \n",
    "\n",
    "    def plot(self, line_width=1, point_radius=math.sqrt(2.0), annotation_size=8, dpi=120, save=True, name=None):\n",
    "        x = [self.nodes[i][0] for i in self.global_best_tour]\n",
    "        x.append(x[0])\n",
    "        y = [self.nodes[i][1] for i in self.global_best_tour]\n",
    "        y.append(y[0])\n",
    "        plt.plot(x, y, linewidth=line_width)\n",
    "        plt.scatter(x, y, s=math.pi * (point_radius ** 2.0))\n",
    "        plt.title(self.mode)\n",
    "        for i in self.global_best_tour:\n",
    "            plt.annotate(self.labels[i], self.nodes[i], size=annotation_size)\n",
    "        if save:\n",
    "            if name is None:\n",
    "                name = '{0}.png'.format(self.mode)\n",
    "            plt.savefig(name, dpi=dpi)\n",
    "\n",
    "        plt.savefig('static/images/plot.png')\n",
    "        plt.show()\n",
    "        plt.gcf().clear()\n",
    "        \n",
    "\n",
    "\n",
    "\n"
   ]
  }
 ],
 "metadata": {
  "interpreter": {
   "hash": "821203d0b7be942b18cbbd219e05ff4af57f12afa49d20e52708bbb6ea37606d"
  },
  "kernelspec": {
   "display_name": "Python 3.7.11 ('final_prj')",
   "language": "python",
   "name": "python3"
  },
  "language_info": {
   "codemirror_mode": {
    "name": "ipython",
    "version": 3
   },
   "file_extension": ".py",
   "mimetype": "text/x-python",
   "name": "python",
   "nbconvert_exporter": "python",
   "pygments_lexer": "ipython3",
   "version": "3.7.11"
  },
  "orig_nbformat": 4
 },
 "nbformat": 4,
 "nbformat_minor": 2
}
